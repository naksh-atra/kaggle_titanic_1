{
 "cells": [
  {
   "cell_type": "code",
   "execution_count": 1,
   "id": "fb7c5d05",
   "metadata": {
    "_cell_guid": "b1076dfc-b9ad-4769-8c92-a6c4dae69d19",
    "_uuid": "8f2839f25d086af736a60e9eeb907d3b93b6e0e5",
    "execution": {
     "iopub.execute_input": "2022-02-04T16:29:32.671780Z",
     "iopub.status.busy": "2022-02-04T16:29:32.670527Z",
     "iopub.status.idle": "2022-02-04T16:29:32.684302Z",
     "shell.execute_reply": "2022-02-04T16:29:32.685142Z",
     "shell.execute_reply.started": "2022-02-04T16:22:29.685005Z"
    },
    "papermill": {
     "duration": 0.036707,
     "end_time": "2022-02-04T16:29:32.685683",
     "exception": false,
     "start_time": "2022-02-04T16:29:32.648976",
     "status": "completed"
    },
    "tags": []
   },
   "outputs": [
    {
     "name": "stdout",
     "output_type": "stream",
     "text": [
      "/kaggle/input/titanic/train.csv\n",
      "/kaggle/input/titanic/test.csv\n",
      "/kaggle/input/titanic/gender_submission.csv\n"
     ]
    }
   ],
   "source": [
    "# This Python 3 environment comes with many helpful analytics libraries installed\n",
    "# It is defined by the kaggle/python Docker image: https://github.com/kaggle/docker-python\n",
    "# For example, here's several helpful packages to load\n",
    "\n",
    "import numpy as np # linear algebra\n",
    "import pandas as pd # data processing, CSV file I/O (e.g. pd.read_csv)\n",
    "\n",
    "# Input data files are available in the read-only \"../input/\" directory\n",
    "# For example, running this (by clicking run or pressing Shift+Enter) will list all files under the input directory\n",
    "\n",
    "import os\n",
    "for dirname, _, filenames in os.walk('/kaggle/input'):\n",
    "    for filename in filenames:\n",
    "        print(os.path.join(dirname, filename))\n",
    "\n",
    "# You can write up to 20GB to the current directory (/kaggle/working/) that gets preserved as output when you create a version using \"Save & Run All\" \n",
    "# You can also write temporary files to /kaggle/temp/, but they won't be saved outside of the current session"
   ]
  },
  {
   "cell_type": "code",
   "execution_count": 2,
   "id": "a07ced00",
   "metadata": {
    "execution": {
     "iopub.execute_input": "2022-02-04T16:29:32.721297Z",
     "iopub.status.busy": "2022-02-04T16:29:32.720303Z",
     "iopub.status.idle": "2022-02-04T16:29:33.772440Z",
     "shell.execute_reply": "2022-02-04T16:29:33.771689Z",
     "shell.execute_reply.started": "2022-02-04T16:22:29.698300Z"
    },
    "papermill": {
     "duration": 1.07041,
     "end_time": "2022-02-04T16:29:33.772618",
     "exception": false,
     "start_time": "2022-02-04T16:29:32.702208",
     "status": "completed"
    },
    "tags": []
   },
   "outputs": [],
   "source": [
    "import seaborn as sns\n",
    "import matplotlib.pyplot as plt\n",
    "%matplotlib inline"
   ]
  },
  {
   "cell_type": "code",
   "execution_count": 3,
   "id": "31d16434",
   "metadata": {
    "execution": {
     "iopub.execute_input": "2022-02-04T16:29:33.810650Z",
     "iopub.status.busy": "2022-02-04T16:29:33.809889Z",
     "iopub.status.idle": "2022-02-04T16:29:33.890547Z",
     "shell.execute_reply": "2022-02-04T16:29:33.891086Z",
     "shell.execute_reply.started": "2022-02-04T16:22:29.706298Z"
    },
    "papermill": {
     "duration": 0.103236,
     "end_time": "2022-02-04T16:29:33.891267",
     "exception": false,
     "start_time": "2022-02-04T16:29:33.788031",
     "status": "completed"
    },
    "tags": []
   },
   "outputs": [
    {
     "data": {
      "text/html": [
       "<div>\n",
       "<style scoped>\n",
       "    .dataframe tbody tr th:only-of-type {\n",
       "        vertical-align: middle;\n",
       "    }\n",
       "\n",
       "    .dataframe tbody tr th {\n",
       "        vertical-align: top;\n",
       "    }\n",
       "\n",
       "    .dataframe thead th {\n",
       "        text-align: right;\n",
       "    }\n",
       "</style>\n",
       "<table border=\"1\" class=\"dataframe\">\n",
       "  <thead>\n",
       "    <tr style=\"text-align: right;\">\n",
       "      <th></th>\n",
       "      <th>PassengerId</th>\n",
       "      <th>Survived</th>\n",
       "      <th>Pclass</th>\n",
       "      <th>Age</th>\n",
       "      <th>SibSp</th>\n",
       "      <th>Parch</th>\n",
       "      <th>Fare</th>\n",
       "      <th>train_test</th>\n",
       "    </tr>\n",
       "  </thead>\n",
       "  <tbody>\n",
       "    <tr>\n",
       "      <th>count</th>\n",
       "      <td>891.000000</td>\n",
       "      <td>891.000000</td>\n",
       "      <td>891.000000</td>\n",
       "      <td>714.000000</td>\n",
       "      <td>891.000000</td>\n",
       "      <td>891.000000</td>\n",
       "      <td>891.000000</td>\n",
       "      <td>891.0</td>\n",
       "    </tr>\n",
       "    <tr>\n",
       "      <th>mean</th>\n",
       "      <td>446.000000</td>\n",
       "      <td>0.383838</td>\n",
       "      <td>2.308642</td>\n",
       "      <td>29.699118</td>\n",
       "      <td>0.523008</td>\n",
       "      <td>0.381594</td>\n",
       "      <td>32.204208</td>\n",
       "      <td>1.0</td>\n",
       "    </tr>\n",
       "    <tr>\n",
       "      <th>std</th>\n",
       "      <td>257.353842</td>\n",
       "      <td>0.486592</td>\n",
       "      <td>0.836071</td>\n",
       "      <td>14.526497</td>\n",
       "      <td>1.102743</td>\n",
       "      <td>0.806057</td>\n",
       "      <td>49.693429</td>\n",
       "      <td>0.0</td>\n",
       "    </tr>\n",
       "    <tr>\n",
       "      <th>min</th>\n",
       "      <td>1.000000</td>\n",
       "      <td>0.000000</td>\n",
       "      <td>1.000000</td>\n",
       "      <td>0.420000</td>\n",
       "      <td>0.000000</td>\n",
       "      <td>0.000000</td>\n",
       "      <td>0.000000</td>\n",
       "      <td>1.0</td>\n",
       "    </tr>\n",
       "    <tr>\n",
       "      <th>25%</th>\n",
       "      <td>223.500000</td>\n",
       "      <td>0.000000</td>\n",
       "      <td>2.000000</td>\n",
       "      <td>20.125000</td>\n",
       "      <td>0.000000</td>\n",
       "      <td>0.000000</td>\n",
       "      <td>7.910400</td>\n",
       "      <td>1.0</td>\n",
       "    </tr>\n",
       "    <tr>\n",
       "      <th>50%</th>\n",
       "      <td>446.000000</td>\n",
       "      <td>0.000000</td>\n",
       "      <td>3.000000</td>\n",
       "      <td>28.000000</td>\n",
       "      <td>0.000000</td>\n",
       "      <td>0.000000</td>\n",
       "      <td>14.454200</td>\n",
       "      <td>1.0</td>\n",
       "    </tr>\n",
       "    <tr>\n",
       "      <th>75%</th>\n",
       "      <td>668.500000</td>\n",
       "      <td>1.000000</td>\n",
       "      <td>3.000000</td>\n",
       "      <td>38.000000</td>\n",
       "      <td>1.000000</td>\n",
       "      <td>0.000000</td>\n",
       "      <td>31.000000</td>\n",
       "      <td>1.0</td>\n",
       "    </tr>\n",
       "    <tr>\n",
       "      <th>max</th>\n",
       "      <td>891.000000</td>\n",
       "      <td>1.000000</td>\n",
       "      <td>3.000000</td>\n",
       "      <td>80.000000</td>\n",
       "      <td>8.000000</td>\n",
       "      <td>6.000000</td>\n",
       "      <td>512.329200</td>\n",
       "      <td>1.0</td>\n",
       "    </tr>\n",
       "  </tbody>\n",
       "</table>\n",
       "</div>"
      ],
      "text/plain": [
       "       PassengerId    Survived      Pclass         Age       SibSp  \\\n",
       "count   891.000000  891.000000  891.000000  714.000000  891.000000   \n",
       "mean    446.000000    0.383838    2.308642   29.699118    0.523008   \n",
       "std     257.353842    0.486592    0.836071   14.526497    1.102743   \n",
       "min       1.000000    0.000000    1.000000    0.420000    0.000000   \n",
       "25%     223.500000    0.000000    2.000000   20.125000    0.000000   \n",
       "50%     446.000000    0.000000    3.000000   28.000000    0.000000   \n",
       "75%     668.500000    1.000000    3.000000   38.000000    1.000000   \n",
       "max     891.000000    1.000000    3.000000   80.000000    8.000000   \n",
       "\n",
       "            Parch        Fare  train_test  \n",
       "count  891.000000  891.000000       891.0  \n",
       "mean     0.381594   32.204208         1.0  \n",
       "std      0.806057   49.693429         0.0  \n",
       "min      0.000000    0.000000         1.0  \n",
       "25%      0.000000    7.910400         1.0  \n",
       "50%      0.000000   14.454200         1.0  \n",
       "75%      0.000000   31.000000         1.0  \n",
       "max      6.000000  512.329200         1.0  "
      ]
     },
     "execution_count": 3,
     "metadata": {},
     "output_type": "execute_result"
    }
   ],
   "source": [
    "train = pd.read_csv(\"../input/titanic/train.csv\")\n",
    "test = pd.read_csv(\"../input/titanic/test.csv\")\n",
    "\n",
    "train['train_test'] = 1\n",
    "test['train_test'] = 0\n",
    "test['Survived'] = np.NaN\n",
    "df = pd.concat([train,test])\n",
    "\n",
    "train.describe()"
   ]
  },
  {
   "cell_type": "code",
   "execution_count": 4,
   "id": "b50d30cd",
   "metadata": {
    "execution": {
     "iopub.execute_input": "2022-02-04T16:29:33.931485Z",
     "iopub.status.busy": "2022-02-04T16:29:33.930733Z",
     "iopub.status.idle": "2022-02-04T16:29:33.932867Z",
     "shell.execute_reply": "2022-02-04T16:29:33.933388Z",
     "shell.execute_reply.started": "2022-02-04T16:22:29.763250Z"
    },
    "papermill": {
     "duration": 0.025986,
     "end_time": "2022-02-04T16:29:33.933565",
     "exception": false,
     "start_time": "2022-02-04T16:29:33.907579",
     "status": "completed"
    },
    "tags": []
   },
   "outputs": [],
   "source": [
    "#classifying columns into numeric variables and categorical variables\n",
    "df_numeric = train[['Age','SibSp','Parch','Fare']]\n",
    "df_categ = train[['Survived','Pclass','Sex','Embarked','Cabin','Ticket']]"
   ]
  },
  {
   "cell_type": "markdown",
   "id": "db372626",
   "metadata": {
    "papermill": {
     "duration": 0.015794,
     "end_time": "2022-02-04T16:29:33.965496",
     "exception": false,
     "start_time": "2022-02-04T16:29:33.949702",
     "status": "completed"
    },
    "tags": []
   },
   "source": [
    "# POV 1: Numeric Values"
   ]
  },
  {
   "cell_type": "code",
   "execution_count": 5,
   "id": "23d3dfd3",
   "metadata": {
    "execution": {
     "iopub.execute_input": "2022-02-04T16:29:34.002533Z",
     "iopub.status.busy": "2022-02-04T16:29:34.001854Z",
     "iopub.status.idle": "2022-02-04T16:29:34.896709Z",
     "shell.execute_reply": "2022-02-04T16:29:34.896152Z",
     "shell.execute_reply.started": "2022-02-04T16:22:29.771361Z"
    },
    "papermill": {
     "duration": 0.914702,
     "end_time": "2022-02-04T16:29:34.896882",
     "exception": false,
     "start_time": "2022-02-04T16:29:33.982180",
     "status": "completed"
    },
    "tags": []
   },
   "outputs": [
    {
     "data": {
      "image/png": "[encoded data removed]",
      "text/plain": [
       "<Figure size 432x288 with 1 Axes>"
      ]
     },
     "metadata": {
      "needs_background": "light"
     },
     "output_type": "display_data"
    },
    {
     "data": {
      "image/png": "[encoded data removed]",
      "text/plain": [
       "<Figure size 432x288 with 1 Axes>"
      ]
     },
     "metadata": {
      "needs_background": "light"
     },
     "output_type": "display_data"
    },
    {
     "data": {
      "image/png": "[encoded data removed]",
      "text/plain": [
       "<Figure size 432x288 with 1 Axes>"
      ]
     },
     "metadata": {
      "needs_background": "light"
     },
     "output_type": "display_data"
    },
    {
     "data": {
      "image/png": "[encoded data removed]",
      "text/plain": [
       "<Figure size 432x288 with 1 Axes>"
      ]
     },
     "metadata": {
      "needs_background": "light"
     },
     "output_type": "display_data"
    }
   ],
   "source": [
    "#plotting histograms for numeric values\n",
    "for i in df_numeric: # // for i in ['Age','SibSp','Parch','Fare']:\n",
    "    plt.hist(train[i]) #blue\n",
    "    plt.hist(test[i]) #orange\n",
    "    plt.title(i)\n",
    "    plt.show()"
   ]
  },
  {
   "cell_type": "code",
   "execution_count": 6,
   "id": "7bcf7164",
   "metadata": {
    "execution": {
     "iopub.execute_input": "2022-02-04T16:29:34.939278Z",
     "iopub.status.busy": "2022-02-04T16:29:34.938552Z",
     "iopub.status.idle": "2022-02-04T16:29:34.949119Z",
     "shell.execute_reply": "2022-02-04T16:29:34.948513Z",
     "shell.execute_reply.started": "2022-02-04T16:22:30.628896Z"
    },
    "papermill": {
     "duration": 0.033807,
     "end_time": "2022-02-04T16:29:34.949273",
     "exception": false,
     "start_time": "2022-02-04T16:29:34.915466",
     "status": "completed"
    },
    "tags": []
   },
   "outputs": [
    {
     "name": "stdout",
     "output_type": "stream",
     "text": [
      "            Age     SibSp     Parch      Fare\n",
      "Age    1.000000 -0.308247 -0.189119  0.096067\n",
      "SibSp -0.308247  1.000000  0.414838  0.159651\n",
      "Parch -0.189119  0.414838  1.000000  0.216225\n",
      "Fare   0.096067  0.159651  0.216225  1.000000\n"
     ]
    }
   ],
   "source": [
    "#normalise the distributions that need it (not age, it is already pretty normalised)\n",
    "#then create correlations between various numeric categories\n",
    "print(df_numeric.corr())"
   ]
  },
  {
   "cell_type": "code",
   "execution_count": 7,
   "id": "122b7a56",
   "metadata": {
    "execution": {
     "iopub.execute_input": "2022-02-04T16:29:34.992641Z",
     "iopub.status.busy": "2022-02-04T16:29:34.990565Z",
     "iopub.status.idle": "2022-02-04T16:29:35.261458Z",
     "shell.execute_reply": "2022-02-04T16:29:35.260688Z",
     "shell.execute_reply.started": "2022-02-04T16:22:30.638877Z"
    },
    "papermill": {
     "duration": 0.293407,
     "end_time": "2022-02-04T16:29:35.261622",
     "exception": false,
     "start_time": "2022-02-04T16:29:34.968215",
     "status": "completed"
    },
    "tags": []
   },
   "outputs": [
    {
     "data": {
      "text/plain": [
       "<AxesSubplot:>"
      ]
     },
     "execution_count": 7,
     "metadata": {},
     "output_type": "execute_result"
    },
    {
     "data": {
      "image/png": "[encoded data removed]",
      "text/plain": [
       "<Figure size 504x360 with 2 Axes>"
      ]
     },
     "metadata": {
      "needs_background": "light"
     },
     "output_type": "display_data"
    }
   ],
   "source": [
    "#use heatmap for better visualisation\n",
    "plt.figure(figsize=(7,5))\n",
    "sns.heatmap(df_numeric.corr())"
   ]
  },
  {
   "cell_type": "code",
   "execution_count": 8,
   "id": "0c5b5174",
   "metadata": {
    "execution": {
     "iopub.execute_input": "2022-02-04T16:29:35.309302Z",
     "iopub.status.busy": "2022-02-04T16:29:35.308340Z",
     "iopub.status.idle": "2022-02-04T16:29:35.329317Z",
     "shell.execute_reply": "2022-02-04T16:29:35.328697Z",
     "shell.execute_reply.started": "2022-02-04T16:22:30.895031Z"
    },
    "papermill": {
     "duration": 0.048031,
     "end_time": "2022-02-04T16:29:35.329462",
     "exception": false,
     "start_time": "2022-02-04T16:29:35.281431",
     "status": "completed"
    },
    "tags": []
   },
   "outputs": [
    {
     "data": {
      "text/html": [
       "<div>\n",
       "<style scoped>\n",
       "    .dataframe tbody tr th:only-of-type {\n",
       "        vertical-align: middle;\n",
       "    }\n",
       "\n",
       "    .dataframe tbody tr th {\n",
       "        vertical-align: top;\n",
       "    }\n",
       "\n",
       "    .dataframe thead th {\n",
       "        text-align: right;\n",
       "    }\n",
       "</style>\n",
       "<table border=\"1\" class=\"dataframe\">\n",
       "  <thead>\n",
       "    <tr style=\"text-align: right;\">\n",
       "      <th></th>\n",
       "      <th>Age</th>\n",
       "      <th>Fare</th>\n",
       "      <th>Parch</th>\n",
       "      <th>SibSp</th>\n",
       "    </tr>\n",
       "    <tr>\n",
       "      <th>Survived</th>\n",
       "      <th></th>\n",
       "      <th></th>\n",
       "      <th></th>\n",
       "      <th></th>\n",
       "    </tr>\n",
       "  </thead>\n",
       "  <tbody>\n",
       "    <tr>\n",
       "      <th>0</th>\n",
       "      <td>30.626179</td>\n",
       "      <td>22.117887</td>\n",
       "      <td>0.329690</td>\n",
       "      <td>0.553734</td>\n",
       "    </tr>\n",
       "    <tr>\n",
       "      <th>1</th>\n",
       "      <td>28.343690</td>\n",
       "      <td>48.395408</td>\n",
       "      <td>0.464912</td>\n",
       "      <td>0.473684</td>\n",
       "    </tr>\n",
       "  </tbody>\n",
       "</table>\n",
       "</div>"
      ],
      "text/plain": [
       "                Age       Fare     Parch     SibSp\n",
       "Survived                                          \n",
       "0         30.626179  22.117887  0.329690  0.553734\n",
       "1         28.343690  48.395408  0.464912  0.473684"
      ]
     },
     "execution_count": 8,
     "metadata": {},
     "output_type": "execute_result"
    }
   ],
   "source": [
    "#compare the stats in a table\n",
    "pd.pivot_table(train, index = 'Survived', values = ['Age','SibSp','Parch','Fare'])\n",
    "#survival was more probable for the young, the rich(oof), the ones who have parents on board and the ones with no siblings"
   ]
  },
  {
   "cell_type": "markdown",
   "id": "a9b48ddb",
   "metadata": {
    "papermill": {
     "duration": 0.019814,
     "end_time": "2022-02-04T16:29:35.370137",
     "exception": false,
     "start_time": "2022-02-04T16:29:35.350323",
     "status": "completed"
    },
    "tags": []
   },
   "source": [
    "# POV 2: Categorical Values"
   ]
  },
  {
   "cell_type": "code",
   "execution_count": 9,
   "id": "3fd1e055",
   "metadata": {
    "execution": {
     "iopub.execute_input": "2022-02-04T16:29:35.414228Z",
     "iopub.status.busy": "2022-02-04T16:29:35.413196Z",
     "iopub.status.idle": "2022-02-04T16:29:46.966909Z",
     "shell.execute_reply": "2022-02-04T16:29:46.966239Z",
     "shell.execute_reply.started": "2022-02-04T16:22:30.915472Z"
    },
    "papermill": {
     "duration": 11.576843,
     "end_time": "2022-02-04T16:29:46.967055",
     "exception": false,
     "start_time": "2022-02-04T16:29:35.390212",
     "status": "completed"
    },
    "tags": []
   },
   "outputs": [
    {
     "data": {
      "image/png": "[encoded data removed]",
      "text/plain": [
       "<Figure size 432x288 with 1 Axes>"
      ]
     },
     "metadata": {
      "needs_background": "light"
     },
     "output_type": "display_data"
    },
    {
     "data": {
      "image/png": "[encoded data removed]",
      "text/plain": [
       "<Figure size 432x288 with 1 Axes>"
      ]
     },
     "metadata": {
      "needs_background": "light"
     },
     "output_type": "display_data"
    },
    {
     "data": {
      "image/png": "[encoded data removed]",
      "text/plain": [
       "<Figure size 432x288 with 1 Axes>"
      ]
     },
     "metadata": {
      "needs_background": "light"
     },
     "output_type": "display_data"
    },
    {
     "data": {
      "image/png": "[encoded data removed]",
      "text/plain": [
       "<Figure size 432x288 with 1 Axes>"
      ]
     },
     "metadata": {
      "needs_background": "light"
     },
     "output_type": "display_data"
    },
    {
     "data": {
      "image/png": "[encoded data removed]",
      "text/plain": [
       "<Figure size 432x288 with 1 Axes>"
      ]
     },
     "metadata": {
      "needs_background": "light"
     },
     "output_type": "display_data"
    },
    {
     "data": {
      "image/png": "[encoded data removed]",
      "text/plain": [
       "<Figure size 432x288 with 1 Axes>"
      ]
     },
     "metadata": {
      "needs_background": "light"
     },
     "output_type": "display_data"
    }
   ],
   "source": [
    "#We use bar graphs instead of histograms for a better/more appropriate view\n",
    "for i in df_categ: # or ['Survived','Pclass','Sex','Embarked','Cabin','Ticket']\n",
    "    sns.barplot(x=train[i].value_counts().index,y=train[i].value_counts()).set_title(i);\n",
    "    plt.show();"
   ]
  },
  {
   "cell_type": "code",
   "execution_count": 10,
   "id": "d9332b0e",
   "metadata": {
    "execution": {
     "iopub.execute_input": "2022-02-04T16:29:47.027433Z",
     "iopub.status.busy": "2022-02-04T16:29:47.026013Z",
     "iopub.status.idle": "2022-02-04T16:29:47.061997Z",
     "shell.execute_reply": "2022-02-04T16:29:47.062602Z",
     "shell.execute_reply.started": "2022-02-04T16:22:42.204631Z"
    },
    "papermill": {
     "duration": 0.071346,
     "end_time": "2022-02-04T16:29:47.062780",
     "exception": false,
     "start_time": "2022-02-04T16:29:46.991434",
     "status": "completed"
    },
    "tags": []
   },
   "outputs": [
    {
     "name": "stdout",
     "output_type": "stream",
     "text": [
      "Pclass      1   2    3\n",
      "Survived              \n",
      "0          80  97  372\n",
      "1         136  87  119\n",
      "\n",
      "Sex       female  male\n",
      "Survived              \n",
      "0             81   468\n",
      "1            233   109\n",
      "\n",
      "Embarked   C   Q    S\n",
      "Survived             \n",
      "0         75  47  427\n",
      "1         93  30  217\n"
     ]
    }
   ],
   "source": [
    "#comparing stats in a table by categories\n",
    "print(pd.pivot_table(train, index = 'Survived', columns = ['Pclass'] , values = 'Ticket', aggfunc = 'count'))\n",
    "print() #blank line\n",
    "print(pd.pivot_table(train, index = 'Survived', columns = ['Sex'] , values = 'Ticket', aggfunc = 'count'))\n",
    "print()\n",
    "print(pd.pivot_table(train, index = 'Survived', columns = ['Embarked'] , values = 'Ticket', aggfunc = 'count'))\n",
    "#counting cabin and ticket numbers is pointless so they are excluded"
   ]
  },
  {
   "cell_type": "code",
   "execution_count": 11,
   "id": "b20d082e",
   "metadata": {
    "execution": {
     "iopub.execute_input": "2022-02-04T16:29:47.122588Z",
     "iopub.status.busy": "2022-02-04T16:29:47.119573Z",
     "iopub.status.idle": "2022-02-04T16:29:47.136791Z",
     "shell.execute_reply": "2022-02-04T16:29:47.136148Z",
     "shell.execute_reply.started": "2022-02-04T16:23:38.008100Z"
    },
    "papermill": {
     "duration": 0.049937,
     "end_time": "2022-02-04T16:29:47.136983",
     "exception": false,
     "start_time": "2022-02-04T16:29:47.087046",
     "status": "completed"
    },
    "tags": []
   },
   "outputs": [
    {
     "name": "stdout",
     "output_type": "stream",
     "text": [
      "<class 'pandas.core.frame.DataFrame'>\n",
      "Int64Index: 889 entries, 0 to 890\n",
      "Data columns (total 13 columns):\n",
      " #   Column       Non-Null Count  Dtype  \n",
      "---  ------       --------------  -----  \n",
      " 0   PassengerId  889 non-null    int64  \n",
      " 1   Survived     889 non-null    int64  \n",
      " 2   Pclass       889 non-null    int64  \n",
      " 3   Name         889 non-null    object \n",
      " 4   Sex          889 non-null    object \n",
      " 5   Age          889 non-null    float64\n",
      " 6   SibSp        889 non-null    int64  \n",
      " 7   Parch        889 non-null    int64  \n",
      " 8   Ticket       889 non-null    object \n",
      " 9   Fare         889 non-null    float64\n",
      " 10  Cabin        202 non-null    object \n",
      " 11  Embarked     889 non-null    object \n",
      " 12  train_test   889 non-null    int64  \n",
      "dtypes: float64(2), int64(6), object(5)\n",
      "memory usage: 97.2+ KB\n"
     ]
    }
   ],
   "source": [
    "median_fare = train['Fare'].median()\n",
    "test['Fare'].fillna(median_fare,inplace=True)\n",
    "\n",
    "\n",
    "median_age_train = train['Age'].median()\n",
    "median_age_test = train['Age'].median()\n",
    "train['Age'].fillna(median_age_train,inplace=True)\n",
    "test['Age'].fillna(median_age_test,inplace=True)\n",
    "train.dropna(subset=['Embarked'],inplace=True)\n",
    "\n",
    "train.info()"
   ]
  },
  {
   "cell_type": "code",
   "execution_count": 12,
   "id": "52d5ef9c",
   "metadata": {
    "execution": {
     "iopub.execute_input": "2022-02-04T16:29:47.193636Z",
     "iopub.status.busy": "2022-02-04T16:29:47.192545Z",
     "iopub.status.idle": "2022-02-04T16:29:47.767345Z",
     "shell.execute_reply": "2022-02-04T16:29:47.767879Z",
     "shell.execute_reply.started": "2022-02-04T16:23:47.657267Z"
    },
    "papermill": {
     "duration": 0.605098,
     "end_time": "2022-02-04T16:29:47.768050",
     "exception": false,
     "start_time": "2022-02-04T16:29:47.162952",
     "status": "completed"
    },
    "tags": []
   },
   "outputs": [
    {
     "data": {
      "image/png": "[encoded data removed]",
      "text/plain": [
       "<Figure size 411.875x360 with 1 Axes>"
      ]
     },
     "metadata": {
      "needs_background": "light"
     },
     "output_type": "display_data"
    }
   ],
   "source": [
    "plot=sns.relplot(x='Age',y='Fare',data=train, hue='Survived')\n",
    "plot.fig.suptitle('Relation between age and fare',y=1.05);"
   ]
  },
  {
   "cell_type": "code",
   "execution_count": 13,
   "id": "5e1182e1",
   "metadata": {
    "execution": {
     "iopub.execute_input": "2022-02-04T16:29:47.829023Z",
     "iopub.status.busy": "2022-02-04T16:29:47.827994Z",
     "iopub.status.idle": "2022-02-04T16:29:48.147635Z",
     "shell.execute_reply": "2022-02-04T16:29:48.148215Z",
     "shell.execute_reply.started": "2022-02-04T16:24:17.852126Z"
    },
    "papermill": {
     "duration": 0.354191,
     "end_time": "2022-02-04T16:29:48.148416",
     "exception": false,
     "start_time": "2022-02-04T16:29:47.794225",
     "status": "completed"
    },
    "tags": []
   },
   "outputs": [
    {
     "data": {
      "image/png": "[encoded data removed]",
      "text/plain": [
       "<Figure size 411.875x360 with 1 Axes>"
      ]
     },
     "metadata": {
      "needs_background": "light"
     },
     "output_type": "display_data"
    }
   ],
   "source": [
    "plot=sns.catplot(x='Sex',data=train, kind='count',hue='Survived')\n",
    "plot.fig.suptitle('Relation between sex and survival chance', y=1.05);"
   ]
  },
  {
   "cell_type": "code",
   "execution_count": 14,
   "id": "cabcae84",
   "metadata": {
    "execution": {
     "iopub.execute_input": "2022-02-04T16:29:48.206807Z",
     "iopub.status.busy": "2022-02-04T16:29:48.205844Z",
     "iopub.status.idle": "2022-02-04T16:29:48.570168Z",
     "shell.execute_reply": "2022-02-04T16:29:48.570739Z",
     "shell.execute_reply.started": "2022-02-04T16:24:46.294884Z"
    },
    "papermill": {
     "duration": 0.394651,
     "end_time": "2022-02-04T16:29:48.570937",
     "exception": false,
     "start_time": "2022-02-04T16:29:48.176286",
     "status": "completed"
    },
    "tags": []
   },
   "outputs": [
    {
     "data": {
      "image/png": "[encoded data removed]",
      "text/plain": [
       "<Figure size 411.875x360 with 1 Axes>"
      ]
     },
     "metadata": {
      "needs_background": "light"
     },
     "output_type": "display_data"
    }
   ],
   "source": [
    "plot=sns.catplot(x='Embarked',data=train, kind='count',hue='Survived')\n",
    "plot.fig.suptitle('Relation between embarked and survival chance', y=1.05);"
   ]
  },
  {
   "cell_type": "code",
   "execution_count": 15,
   "id": "fb4f7566",
   "metadata": {
    "execution": {
     "iopub.execute_input": "2022-02-04T16:29:48.641048Z",
     "iopub.status.busy": "2022-02-04T16:29:48.632849Z",
     "iopub.status.idle": "2022-02-04T16:30:35.122563Z",
     "shell.execute_reply": "2022-02-04T16:30:35.123138Z",
     "shell.execute_reply.started": "2022-02-04T16:26:34.050790Z"
    },
    "papermill": {
     "duration": 46.523764,
     "end_time": "2022-02-04T16:30:35.123327",
     "exception": false,
     "start_time": "2022-02-04T16:29:48.599563",
     "status": "completed"
    },
    "tags": []
   },
   "outputs": [
    {
     "name": "stdout",
     "output_type": "stream",
     "text": [
      "Your submission was successfully saved!\n"
     ]
    }
   ],
   "source": [
    "from sklearn.ensemble import RandomForestClassifier,GradientBoostingClassifier\n",
    "from sklearn.model_selection import RandomizedSearchCV,train_test_split\n",
    "from sklearn.metrics import accuracy_score, precision_score, recall_score, f1_score\n",
    "from sklearn.linear_model import LogisticRegression\n",
    "\n",
    "y = train['Survived']\n",
    "\n",
    "features = ['Sex','SibSp','Age','Fare','Embarked','Pclass']\n",
    "\n",
    "X = pd.get_dummies(train[features])\n",
    "\n",
    "X_test = pd.get_dummies(test[features])\n",
    "\n",
    "# X_train, X_validate, y_train, y_validate = train_test_split(X, \n",
    "#                                                     y, \n",
    "#                                                     random_state=42)\n",
    "\n",
    "\n",
    "model = GradientBoostingClassifier(random_state=42)\n",
    "param_dist = {\"max_depth\": [4,5,6,7,8,9],\n",
    "              \"n_estimators\": [100,200,300,400],\n",
    "              'learning_rate': [0.1, 0.05, 0.01,0.001],\n",
    "         \n",
    "              \"min_samples_split\": list(range(2, 11)),\n",
    "              \"min_samples_leaf\": list(range(1, 11)),\n",
    "#               \"bootstrap\": [True, False],\n",
    "#               \"criterion\": [\"gini\", \"entropy\"]\n",
    "             }\n",
    "\n",
    "\n",
    "# Run a randomized search over the hyperparameters\n",
    "random_search = RandomizedSearchCV(model, param_distributions=param_dist)\n",
    "\n",
    "# Fit the model on the training data\n",
    "random_search.fit(X, y)\n",
    "\n",
    "# Make predictions on the test data\n",
    "predictions = random_search.best_estimator_.predict(X_test)\n",
    "\n",
    "# accuracy_score(y_validate, predictions)\n",
    "\n",
    "\n",
    "output = pd.DataFrame({'PassengerId': test.PassengerId, 'Survived': predictions})\n",
    "output.to_csv('submission.csv', index=False)\n",
    "print(\"Your submission was successfully saved!\")"
   ]
  },
  {
   "cell_type": "code",
   "execution_count": null,
   "id": "f9bd6a7b",
   "metadata": {
    "papermill": {
     "duration": 0.029092,
     "end_time": "2022-02-04T16:30:35.181782",
     "exception": false,
     "start_time": "2022-02-04T16:30:35.152690",
     "status": "completed"
    },
    "tags": []
   },
   "outputs": [],
   "source": []
  }
 ],
 "metadata": {
  "kernelspec": {
   "display_name": "Python 3",
   "language": "python",
   "name": "python3"
  },
  "language_info": {
   "codemirror_mode": {
    "name": "ipython",
    "version": 3
   },
   "file_extension": ".py",
   "mimetype": "text/x-python",
   "name": "python",
   "nbconvert_exporter": "python",
   "pygments_lexer": "ipython3",
   "version": "3.7.12"
  },
  "papermill": {
   "default_parameters": {},
   "duration": 74.23618,
   "end_time": "2022-02-04T16:30:36.122780",
   "environment_variables": {},
   "exception": null,
   "input_path": "__notebook__.ipynb",
   "output_path": "__notebook__.ipynb",
   "parameters": {},
   "start_time": "2022-02-04T16:29:21.886600",
   "version": "2.3.3"
  }
 },
 "nbformat": 4,
 "nbformat_minor": 5
}
